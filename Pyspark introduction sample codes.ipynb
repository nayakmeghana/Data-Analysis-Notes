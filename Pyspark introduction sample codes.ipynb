{
 "cells": [
  {
   "cell_type": "code",
   "execution_count": 1,
   "id": "a77bbb2b-2abd-4a03-84c9-80dc6d13be9a",
   "metadata": {},
   "outputs": [],
   "source": [
    "from pyspark.sql import SparkSession"
   ]
  },
  {
   "cell_type": "code",
   "execution_count": null,
   "id": "1ea4e730-57c7-4623-880f-417ec3000e77",
   "metadata": {},
   "outputs": [],
   "source": [
    "spark = SparkSession.builder.appName('DataFrame').getOrCreate()"
   ]
  },
  {
   "cell_type": "code",
   "execution_count": null,
   "id": "c1293bbc-aeb0-4995-86ce-178a4de1f541",
   "metadata": {},
   "outputs": [],
   "source": [
    "df_spark = spark.read.csv('filename.csv',header='True',inferschema=True)"
   ]
  },
  {
   "cell_type": "code",
   "execution_count": null,
   "id": "31b2694b-2550-414f-add3-7a53e5ba5a14",
   "metadata": {},
   "outputs": [],
   "source": [
    "df_pyspark.printSchema()"
   ]
  },
  {
   "cell_type": "code",
   "execution_count": null,
   "id": "616c24c6-9165-429f-923a-505bed9ebc70",
   "metadata": {},
   "outputs": [],
   "source": [
    "type(df_pyspark)"
   ]
  },
  {
   "cell_type": "code",
   "execution_count": null,
   "id": "186ca6e2-1345-42cd-bfa5-050c2b0f44a7",
   "metadata": {},
   "outputs": [],
   "source": [
    "df_pyspark.columns"
   ]
  },
  {
   "cell_type": "code",
   "execution_count": null,
   "id": "e989a65d-78e7-4eaa-8ca7-a40f9591fa7a",
   "metadata": {},
   "outputs": [],
   "source": [
    "df_pyspark.select('colname').show()\n"
   ]
  },
  {
   "cell_type": "code",
   "execution_count": null,
   "id": "a2ebc634-cf42-4b75-ba8b-3de23c570632",
   "metadata": {},
   "outputs": [],
   "source": [
    "df_pyspark.select([col1,col2]).show()"
   ]
  },
  {
   "cell_type": "code",
   "execution_count": null,
   "id": "49ef8787-b201-4371-b6a9-b96149bec5a9",
   "metadata": {},
   "outputs": [],
   "source": [
    "df_pyspark.dtypes"
   ]
  },
  {
   "cell_type": "code",
   "execution_count": null,
   "id": "dc4ef306-dd6b-4c3b-b69c-2711b69ecfaa",
   "metadata": {},
   "outputs": [],
   "source": [
    "df_pyspark.describe().show() "
   ]
  },
  {
   "cell_type": "code",
   "execution_count": null,
   "id": "c475893b-75e3-4a19-8830-d69794bfd9b0",
   "metadata": {},
   "outputs": [],
   "source": [
    "#adding col in pyspark df"
   ]
  },
  {
   "cell_type": "code",
   "execution_count": null,
   "id": "1f1cd334-e164-4043-902b-51d390b461a3",
   "metadata": {},
   "outputs": [],
   "source": [
    "df_pyspark.withColumn('colname',[previois col]+operator)"
   ]
  },
  {
   "cell_type": "code",
   "execution_count": null,
   "id": "ec9bd0d6-680d-4f57-a5bc-93c49e7afc2f",
   "metadata": {},
   "outputs": [],
   "source": [
    "#drop the col"
   ]
  },
  {
   "cell_type": "code",
   "execution_count": null,
   "id": "ce2b29b8-1b0e-4f4e-9fcd-4c2c26b3b7f2",
   "metadata": {},
   "outputs": [],
   "source": [
    "df_pyspark.drop() or df_pyspark.drop('colname')"
   ]
  },
  {
   "cell_type": "code",
   "execution_count": null,
   "id": "d5b3cda7-8545-4c1a-87d9-fa62cf27face",
   "metadata": {},
   "outputs": [],
   "source": [
    "#rename col"
   ]
  },
  {
   "cell_type": "code",
   "execution_count": null,
   "id": "5717200e-5967-4c69-b018-17ebd7b7447a",
   "metadata": {},
   "outputs": [],
   "source": [
    "df_pyspark.withColumnRenamed('Name','New Name')"
   ]
  },
  {
   "cell_type": "code",
   "execution_count": null,
   "id": "e6b288f7-4d8e-4628-80b0-fbd28d10a958",
   "metadata": {},
   "outputs": [],
   "source": []
  },
  {
   "cell_type": "code",
   "execution_count": null,
   "id": "1a1708ea-e289-448b-8e07-dd959b1721e3",
   "metadata": {},
   "outputs": [],
   "source": []
  },
  {
   "cell_type": "code",
   "execution_count": null,
   "id": "243deca8-b382-49bf-8b18-59e1803383c2",
   "metadata": {},
   "outputs": [],
   "source": []
  },
  {
   "cell_type": "code",
   "execution_count": null,
   "id": "d62033c7-7813-47da-84b0-c80f9a843d05",
   "metadata": {},
   "outputs": [],
   "source": []
  },
  {
   "cell_type": "code",
   "execution_count": null,
   "id": "08e9b441-891d-4350-901a-0a8364c87c49",
   "metadata": {},
   "outputs": [],
   "source": []
  }
 ],
 "metadata": {
  "kernelspec": {
   "display_name": "Python 3 (ipykernel)",
   "language": "python",
   "name": "python3"
  },
  "language_info": {
   "codemirror_mode": {
    "name": "ipython",
    "version": 3
   },
   "file_extension": ".py",
   "mimetype": "text/x-python",
   "name": "python",
   "nbconvert_exporter": "python",
   "pygments_lexer": "ipython3",
   "version": "3.11.7"
  }
 },
 "nbformat": 4,
 "nbformat_minor": 5
}
